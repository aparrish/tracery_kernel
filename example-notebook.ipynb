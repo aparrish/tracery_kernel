{
 "cells": [
  {
   "cell_type": "markdown",
   "metadata": {},
   "source": [
    "# I made a Tracery kernel for Jupyter Notebook\n",
    "\n",
    "Here's a simple grammar:"
   ]
  },
  {
   "cell_type": "code",
   "execution_count": 1,
   "metadata": {
    "scrolled": true
   },
   "outputs": [
    {
     "name": "stdout",
     "output_type": "stream",
     "text": [
      "This is a trial of the emergency program system. This is only a trial."
     ]
    }
   ],
   "source": [
    "{\n",
    "  \"origin\": \"#[test:#testNouns#]warning#\",\n",
    "  \"warning\": \"This is #test.a# of the emergency #broadcastNouns# system. This is only #test.a#.\",\n",
    "  \"testNouns\": [\"test\", \"trial\", \"experiment\", \"case study\", \"quiz\", \"analysis\"],\n",
    "  \"broadcastNouns\": [\"broadcast\", \"program\", \"telecast\", \"podcast\", \"sitcom\", \"documentary\"]\n",
    "}"
   ]
  },
  {
   "cell_type": "markdown",
   "metadata": {},
   "source": [
    "Here's another example:"
   ]
  },
  {
   "cell_type": "code",
   "execution_count": 11,
   "metadata": {},
   "outputs": [
    {
     "name": "stdout",
     "output_type": "stream",
     "text": [
      "Hallelujah, Steve! I'm a painter, not a lifeguard!"
     ]
    }
   ],
   "source": [
    "{\n",
    "  \"origin\": \"#interjection.capitalize#, #name#! I'm #profession.a#, not #profession.a#!\",\n",
    "  \"interjection\": [\"alas\", \"congratulations\", \"eureka\", \"fiddlesticks\",\n",
    "    \"good grief\", \"hallelujah\", \"oops\", \"rats\", \"thanks\", \"whoa\", \"yes\"],\n",
    "  \"name\": [\"Jim\", \"John\", \"Tom\", \"Steve\", \"Kevin\", \"Gary\", \"George\", \"Larry\"],\n",
    "  \"profession\": [\n",
    "        \"accountant\",\n",
    "        \"actor\",\n",
    "        \"archeologist\",\n",
    "        \"astronomer\",\n",
    "        \"audiologist\",\n",
    "        \"bartender\",\n",
    "        \"butcher\",\n",
    "        \"carpenter\",\n",
    "        \"composer\",\n",
    "        \"crossing guard\",\n",
    "        \"curator\",\n",
    "        \"detective\",\n",
    "        \"economist\",\n",
    "        \"editor\",\n",
    "        \"engineer\",\n",
    "        \"epidemiologist\",\n",
    "        \"farmer\",\n",
    "        \"flight attendant\",\n",
    "        \"forest fire prevention specialist\",\n",
    "        \"graphic designer\",\n",
    "        \"hydrologist\",\n",
    "        \"librarian\",\n",
    "        \"lifeguard\",\n",
    "        \"locksmith\",\n",
    "        \"mathematician\",\n",
    "        \"middle school teacher\",\n",
    "        \"nutritionist\",\n",
    "        \"painter\",\n",
    "        \"physical therapist\",\n",
    "        \"priest\",\n",
    "        \"proofreader\",\n",
    "        \"rancher\",\n",
    "        \"referee\",\n",
    "        \"reporter\",\n",
    "        \"sailor\",\n",
    "        \"sculptor\",\n",
    "        \"singer\",\n",
    "        \"sociologist\",\n",
    "        \"stonemason\",\n",
    "        \"surgeon\",\n",
    "        \"tailor\",\n",
    "        \"taxi driver\",\n",
    "        \"teacher assistant\",\n",
    "        \"teacher\",\n",
    "        \"teller\",\n",
    "        \"therapist\",\n",
    "        \"tour guide\",\n",
    "        \"translator\",\n",
    "        \"travel agent\",\n",
    "        \"umpire\",\n",
    "        \"undertaker\",\n",
    "        \"urban planner\",\n",
    "        \"veterinarian\",\n",
    "        \"web developer\",\n",
    "        \"weigher\",\n",
    "        \"welder\",\n",
    "        \"woodworker\",\n",
    "        \"writer\",\n",
    "        \"zoologist\"\n",
    "  ]\n",
    "}"
   ]
  },
  {
   "cell_type": "markdown",
   "metadata": {},
   "source": [
    "If there's an error, you get an error:"
   ]
  },
  {
   "cell_type": "code",
   "execution_count": 12,
   "metadata": {},
   "outputs": [
    {
     "name": "stdout",
     "output_type": "stream",
     "text": [
      "Error:Expecting value: line 1 column 27 (char 26)"
     ]
    }
   ],
   "source": [
    "{\"origin\": [\"hi\", \"there\",]}"
   ]
  }
 ],
 "metadata": {
  "codemirror_mode": "json",
  "kernelspec": {
   "display_name": "Tracery",
   "language": "text",
   "name": "tracery"
  },
  "language_info": {
   "file_extension": ".json",
   "mimetype": "application/json",
   "name": "json"
  }
 },
 "nbformat": 4,
 "nbformat_minor": 2
}
